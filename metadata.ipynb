{
 "cells": [
  {
   "cell_type": "code",
   "execution_count": 29,
   "metadata": {
    "collapsed": true
   },
   "outputs": [],
   "source": [
    "from cassandra.cluster import Cluster\n",
    "import requests\n",
    "cluster=Cluster(['127.0.0.1'],port=9042)\n",
    "session=cluster.connect()"
   ]
  },
  {
   "cell_type": "code",
   "execution_count": 30,
   "metadata": {
    "collapsed": true
   },
   "outputs": [],
   "source": [
    "import csv"
   ]
  },
  {
   "cell_type": "code",
   "execution_count": 31,
   "metadata": {},
   "outputs": [
    {
     "data": {
      "text/plain": [
       "<cassandra.cluster.ResultSet at 0x77213c8>"
      ]
     },
     "execution_count": 31,
     "metadata": {},
     "output_type": "execute_result"
    }
   ],
   "source": [
    "session.execute('USE stockmarket;')"
   ]
  },
  {
   "cell_type": "code",
   "execution_count": 20,
   "metadata": {
    "collapsed": true
   },
   "outputs": [],
   "source": [
    "row=session.execute(\"SELECT * from system.schema_keyspaces;\")"
   ]
  },
  {
   "cell_type": "code",
   "execution_count": 21,
   "metadata": {
    "collapsed": true
   },
   "outputs": [],
   "source": [
    "with open('keyspace_metadata.csv', 'wb') as csvfile:\n",
    "    filewriter = csv.writer(csvfile, delimiter=',',\n",
    "                            quotechar='|', quoting=csv.QUOTE_MINIMAL)\n",
    "    filewriter.writerow([\"Keyspace_Name\", \"Durable_Wtrites\", \"Strategy_class\",\"Strategy_Options\"])\n",
    "    for i in row:\n",
    "        filewriter.writerow(i)"
   ]
  },
  {
   "cell_type": "code",
   "execution_count": 25,
   "metadata": {
    "collapsed": true
   },
   "outputs": [],
   "source": [
    "column=session.execute(\"SELECT * from system.schema_columnfamilies;\")"
   ]
  },
  {
   "cell_type": "code",
   "execution_count": 26,
   "metadata": {
    "collapsed": true
   },
   "outputs": [],
   "source": [
    "with open('column_family_metadata.csv', 'wb') as csvfile:\n",
    "    filewriter = csv.writer(csvfile, delimiter=',',\n",
    "                             quoting=csv.QUOTE_MINIMAL)\n",
    "    filewriter.writerow([\"Keyspace_Name\", \"columnfamily_name\", \"bloom_filter_fp_chance\",\"caching\",\"cf_id\",\"comment\",\"compaction_strategy_class\",\"compaction_strategy_options\",\"comparator\",\"compression_parameters\",\"default_time_to_live\",\"default_validator\",\"dropped_columns\",\"gc_grace_seconds\",\"is_dense\",\"key_validator\",\"local_read_repair_chance\",\"max_compaction_threshold\",\"max_index_interval\",\"memtable_flush_period_in_ms\",\"min_compaction_threshold\",\"min_index_interval\",\"read_repair_chance\",\"speculative_retry\",\"subcomparator\",\"type\"])\n",
    "    for j in column:\n",
    "        filewriter.writerow(j)"
   ]
  },
  {
   "cell_type": "code",
   "execution_count": 11,
   "metadata": {
    "collapsed": true
   },
   "outputs": [],
   "source": [
    "session.execute('use stockmarket')\n",
    "column=session.execute(\"SELECT * from system.schema_columnfamilies;\")"
   ]
  },
  {
   "cell_type": "code",
   "execution_count": 34,
   "metadata": {
    "collapsed": true
   },
   "outputs": [],
   "source": [
    "columns=session.execute(\"SELECT * from system.schema_columns;\")"
   ]
  },
  {
   "cell_type": "code",
   "execution_count": 35,
   "metadata": {
    "collapsed": true
   },
   "outputs": [],
   "source": [
    "with open('column_metadata.csv', 'wb') as csvfile:\n",
    "    filewriter = csv.writer(csvfile, delimiter=',',\n",
    "                             quoting=csv.QUOTE_MINIMAL)\n",
    "    filewriter.writerow([\"Keyspace_Name\", \"columnfamily_name\",\"column_name\",\"component_index\",\"index_name\",\"index_options\",\" index_type\",\"type\",\"validator\"])\n",
    "    for k in columns:\n",
    "        filewriter.writerow(k)"
   ]
  },
  {
   "cell_type": "code",
   "execution_count": null,
   "metadata": {
    "collapsed": true
   },
   "outputs": [],
   "source": []
  }
 ],
 "metadata": {
  "kernelspec": {
   "display_name": "Python 2",
   "language": "python",
   "name": "python2"
  },
  "language_info": {
   "codemirror_mode": {
    "name": "ipython",
    "version": 2
   },
   "file_extension": ".py",
   "mimetype": "text/x-python",
   "name": "python",
   "nbconvert_exporter": "python",
   "pygments_lexer": "ipython2",
   "version": "2.7.13"
  }
 },
 "nbformat": 4,
 "nbformat_minor": 2
}
